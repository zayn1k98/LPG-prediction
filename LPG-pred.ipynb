{
 "cells": [
  {
   "cell_type": "code",
   "execution_count": 3,
   "metadata": {},
   "outputs": [],
   "source": [
    "import pandas as pd\n",
    "LPG_DF=pd.read_csv(\"./LPG_Data.csv\")"
   ]
  },
  {
   "cell_type": "code",
   "execution_count": 4,
   "metadata": {},
   "outputs": [
    {
     "data": {
      "text/html": [
       "<div>\n",
       "<style scoped>\n",
       "    .dataframe tbody tr th:only-of-type {\n",
       "        vertical-align: middle;\n",
       "    }\n",
       "\n",
       "    .dataframe tbody tr th {\n",
       "        vertical-align: top;\n",
       "    }\n",
       "\n",
       "    .dataframe thead th {\n",
       "        text-align: right;\n",
       "    }\n",
       "</style>\n",
       "<table border=\"1\" class=\"dataframe\">\n",
       "  <thead>\n",
       "    <tr style=\"text-align: right;\">\n",
       "      <th></th>\n",
       "      <th>CUSTOMER_ID</th>\n",
       "      <th>MEMBERS</th>\n",
       "      <th>LPG_RESULT</th>\n",
       "    </tr>\n",
       "  </thead>\n",
       "  <tbody>\n",
       "    <tr>\n",
       "      <th>0</th>\n",
       "      <td>1</td>\n",
       "      <td>2</td>\n",
       "      <td>45 DAYS</td>\n",
       "    </tr>\n",
       "    <tr>\n",
       "      <th>1</th>\n",
       "      <td>2</td>\n",
       "      <td>2</td>\n",
       "      <td>45 DAYS</td>\n",
       "    </tr>\n",
       "    <tr>\n",
       "      <th>2</th>\n",
       "      <td>3</td>\n",
       "      <td>2</td>\n",
       "      <td>45 DAYS</td>\n",
       "    </tr>\n",
       "    <tr>\n",
       "      <th>3</th>\n",
       "      <td>4</td>\n",
       "      <td>2</td>\n",
       "      <td>45 DAYS</td>\n",
       "    </tr>\n",
       "    <tr>\n",
       "      <th>4</th>\n",
       "      <td>5</td>\n",
       "      <td>2</td>\n",
       "      <td>45 DAYS</td>\n",
       "    </tr>\n",
       "    <tr>\n",
       "      <th>...</th>\n",
       "      <td>...</td>\n",
       "      <td>...</td>\n",
       "      <td>...</td>\n",
       "    </tr>\n",
       "    <tr>\n",
       "      <th>175</th>\n",
       "      <td>16</td>\n",
       "      <td>10</td>\n",
       "      <td>10 DAYS</td>\n",
       "    </tr>\n",
       "    <tr>\n",
       "      <th>176</th>\n",
       "      <td>17</td>\n",
       "      <td>10</td>\n",
       "      <td>10 DAYS</td>\n",
       "    </tr>\n",
       "    <tr>\n",
       "      <th>177</th>\n",
       "      <td>18</td>\n",
       "      <td>10</td>\n",
       "      <td>10 DAYS</td>\n",
       "    </tr>\n",
       "    <tr>\n",
       "      <th>178</th>\n",
       "      <td>19</td>\n",
       "      <td>10</td>\n",
       "      <td>10 DAYS</td>\n",
       "    </tr>\n",
       "    <tr>\n",
       "      <th>179</th>\n",
       "      <td>20</td>\n",
       "      <td>10</td>\n",
       "      <td>10 DAYS</td>\n",
       "    </tr>\n",
       "  </tbody>\n",
       "</table>\n",
       "<p>180 rows × 3 columns</p>\n",
       "</div>"
      ],
      "text/plain": [
       "     CUSTOMER_ID  MEMBERS LPG_RESULT\n",
       "0              1        2    45 DAYS\n",
       "1              2        2    45 DAYS\n",
       "2              3        2    45 DAYS\n",
       "3              4        2    45 DAYS\n",
       "4              5        2    45 DAYS\n",
       "..           ...      ...        ...\n",
       "175           16       10    10 DAYS\n",
       "176           17       10    10 DAYS\n",
       "177           18       10    10 DAYS\n",
       "178           19       10    10 DAYS\n",
       "179           20       10    10 DAYS\n",
       "\n",
       "[180 rows x 3 columns]"
      ]
     },
     "execution_count": 4,
     "metadata": {},
     "output_type": "execute_result"
    }
   ],
   "source": [
    "LPG_DF"
   ]
  },
  {
   "cell_type": "code",
   "execution_count": 5,
   "metadata": {},
   "outputs": [],
   "source": [
    "import os\n",
    "import time\n",
    "import joblib\n",
    "import warnings\n",
    "import numpy as np\n",
    "import pandas as pd\n"
   ]
  },
  {
   "cell_type": "code",
   "execution_count": 6,
   "metadata": {},
   "outputs": [
    {
     "data": {
      "text/plain": [
       "(180, 3)"
      ]
     },
     "execution_count": 6,
     "metadata": {},
     "output_type": "execute_result"
    }
   ],
   "source": [
    "LPG_DF.shape"
   ]
  },
  {
   "cell_type": "code",
   "execution_count": 7,
   "metadata": {},
   "outputs": [
    {
     "name": "stdout",
     "output_type": "stream",
     "text": [
      "<class 'pandas.core.frame.DataFrame'>\n",
      "RangeIndex: 180 entries, 0 to 179\n",
      "Data columns (total 3 columns):\n",
      " #   Column       Non-Null Count  Dtype \n",
      "---  ------       --------------  ----- \n",
      " 0   CUSTOMER_ID  180 non-null    int64 \n",
      " 1   MEMBERS      180 non-null    int64 \n",
      " 2   LPG_RESULT   180 non-null    object\n",
      "dtypes: int64(2), object(1)\n",
      "memory usage: 4.3+ KB\n"
     ]
    }
   ],
   "source": [
    "LPG_DF.info()"
   ]
  },
  {
   "cell_type": "code",
   "execution_count": 8,
   "metadata": {},
   "outputs": [
    {
     "data": {
      "text/html": [
       "<div>\n",
       "<style scoped>\n",
       "    .dataframe tbody tr th:only-of-type {\n",
       "        vertical-align: middle;\n",
       "    }\n",
       "\n",
       "    .dataframe tbody tr th {\n",
       "        vertical-align: top;\n",
       "    }\n",
       "\n",
       "    .dataframe thead th {\n",
       "        text-align: right;\n",
       "    }\n",
       "</style>\n",
       "<table border=\"1\" class=\"dataframe\">\n",
       "  <thead>\n",
       "    <tr style=\"text-align: right;\">\n",
       "      <th></th>\n",
       "      <th>CUSTOMER_ID</th>\n",
       "      <th>MEMBERS</th>\n",
       "    </tr>\n",
       "  </thead>\n",
       "  <tbody>\n",
       "    <tr>\n",
       "      <th>count</th>\n",
       "      <td>180.000000</td>\n",
       "      <td>180.000000</td>\n",
       "    </tr>\n",
       "    <tr>\n",
       "      <th>mean</th>\n",
       "      <td>10.500000</td>\n",
       "      <td>6.000000</td>\n",
       "    </tr>\n",
       "    <tr>\n",
       "      <th>std</th>\n",
       "      <td>5.782366</td>\n",
       "      <td>2.589191</td>\n",
       "    </tr>\n",
       "    <tr>\n",
       "      <th>min</th>\n",
       "      <td>1.000000</td>\n",
       "      <td>2.000000</td>\n",
       "    </tr>\n",
       "    <tr>\n",
       "      <th>25%</th>\n",
       "      <td>5.750000</td>\n",
       "      <td>4.000000</td>\n",
       "    </tr>\n",
       "    <tr>\n",
       "      <th>50%</th>\n",
       "      <td>10.500000</td>\n",
       "      <td>6.000000</td>\n",
       "    </tr>\n",
       "    <tr>\n",
       "      <th>75%</th>\n",
       "      <td>15.250000</td>\n",
       "      <td>8.000000</td>\n",
       "    </tr>\n",
       "    <tr>\n",
       "      <th>max</th>\n",
       "      <td>20.000000</td>\n",
       "      <td>10.000000</td>\n",
       "    </tr>\n",
       "  </tbody>\n",
       "</table>\n",
       "</div>"
      ],
      "text/plain": [
       "       CUSTOMER_ID     MEMBERS\n",
       "count   180.000000  180.000000\n",
       "mean     10.500000    6.000000\n",
       "std       5.782366    2.589191\n",
       "min       1.000000    2.000000\n",
       "25%       5.750000    4.000000\n",
       "50%      10.500000    6.000000\n",
       "75%      15.250000    8.000000\n",
       "max      20.000000   10.000000"
      ]
     },
     "execution_count": 8,
     "metadata": {},
     "output_type": "execute_result"
    }
   ],
   "source": [
    "LPG_DF.describe()"
   ]
  },
  {
   "cell_type": "code",
   "execution_count": 9,
   "metadata": {},
   "outputs": [],
   "source": [
    "y=LPG_DF['LPG_RESULT'].values\n",
    "x=LPG_DF.drop('LPG_RESULT',axis=1).values"
   ]
  },
  {
   "cell_type": "code",
   "execution_count": 11,
   "metadata": {},
   "outputs": [],
   "source": [
    "from sklearn.neighbors import KNeighborsClassifier"
   ]
  },
  {
   "cell_type": "code",
   "execution_count": 12,
   "metadata": {},
   "outputs": [],
   "source": [
    "knn=KNeighborsClassifier(n_neighbors=6)"
   ]
  },
  {
   "cell_type": "code",
   "execution_count": 13,
   "metadata": {},
   "outputs": [
    {
     "data": {
      "text/plain": [
       "KNeighborsClassifier(n_neighbors=6)"
      ]
     },
     "execution_count": 13,
     "metadata": {},
     "output_type": "execute_result"
    }
   ],
   "source": [
    "knn.fit(x,y)"
   ]
  },
  {
   "cell_type": "code",
   "execution_count": 14,
   "metadata": {},
   "outputs": [
    {
     "name": "stdout",
     "output_type": "stream",
     "text": [
      "Prediction : ['45 DAYS' '44 DAYS' '44 DAYS' '44 DAYS' '44 DAYS' '44 DAYS' '44 DAYS'\n",
      " '44 DAYS' '44 DAYS' '44 DAYS' '44 DAYS' '44 DAYS' '44 DAYS' '44 DAYS'\n",
      " '44 DAYS' '44 DAYS' '44 DAYS' '44 DAYS' '44 DAYS' '45 DAYS' '40 DAYS'\n",
      " '44 DAYS' '44 DAYS' '44 DAYS' '44 DAYS' '44 DAYS' '44 DAYS' '44 DAYS'\n",
      " '44 DAYS' '44 DAYS' '44 DAYS' '44 DAYS' '44 DAYS' '44 DAYS' '44 DAYS'\n",
      " '44 DAYS' '44 DAYS' '44 DAYS' '44 DAYS' '40 DAYS' '30 DAYS' '40 DAYS'\n",
      " '40 DAYS' '40 DAYS' '40 DAYS' '40 DAYS' '40 DAYS' '40 DAYS' '40 DAYS'\n",
      " '40 DAYS' '40 DAYS' '40 DAYS' '40 DAYS' '40 DAYS' '40 DAYS' '40 DAYS'\n",
      " '40 DAYS' '40 DAYS' '40 DAYS' '30 DAYS' '25 DAYS' '30 DAYS' '30 DAYS'\n",
      " '30 DAYS' '30 DAYS' '30 DAYS' '30 DAYS' '30 DAYS' '30 DAYS' '30 DAYS'\n",
      " '30 DAYS' '30 DAYS' '30 DAYS' '30 DAYS' '30 DAYS' '30 DAYS' '30 DAYS'\n",
      " '30 DAYS' '30 DAYS' '25 DAYS' '21 DAYS' '25 DAYS' '25 DAYS' '25 DAYS'\n",
      " '25 DAYS' '25 DAYS' '25 DAYS' '25 DAYS' '25 DAYS' '25 DAYS' '25 DAYS'\n",
      " '25 DAYS' '25 DAYS' '25 DAYS' '25 DAYS' '25 DAYS' '25 DAYS' '25 DAYS'\n",
      " '25 DAYS' '21 DAYS' '17 DAYS' '21 DAYS' '21 DAYS' '21 DAYS' '21 DAYS'\n",
      " '21 DAYS' '21 DAYS' '21 DAYS' '21 DAYS' '21 DAYS' '21 DAYS' '21 DAYS'\n",
      " '21 DAYS' '21 DAYS' '21 DAYS' '21 DAYS' '21 DAYS' '21 DAYS' '21 DAYS'\n",
      " '17 DAYS' '15 DAYS' '17 DAYS' '17 DAYS' '17 DAYS' '17 DAYS' '17 DAYS'\n",
      " '17 DAYS' '17 DAYS' '17 DAYS' '17 DAYS' '17 DAYS' '17 DAYS' '17 DAYS'\n",
      " '17 DAYS' '17 DAYS' '17 DAYS' '17 DAYS' '17 DAYS' '17 DAYS' '15 DAYS'\n",
      " '10 DAYS' '15 DAYS' '15 DAYS' '15 DAYS' '15 DAYS' '15 DAYS' '15 DAYS'\n",
      " '15 DAYS' '15 DAYS' '15 DAYS' '15 DAYS' '15 DAYS' '15 DAYS' '15 DAYS'\n",
      " '15 DAYS' '15 DAYS' '15 DAYS' '15 DAYS' '15 DAYS' '10 DAYS' '10 DAYS'\n",
      " '10 DAYS' '10 DAYS' '10 DAYS' '10 DAYS' '10 DAYS' '10 DAYS' '10 DAYS'\n",
      " '10 DAYS' '10 DAYS' '10 DAYS' '10 DAYS' '10 DAYS' '10 DAYS' '10 DAYS'\n",
      " '10 DAYS' '10 DAYS' '10 DAYS' '10 DAYS' '10 DAYS']\n"
     ]
    }
   ],
   "source": [
    "y_pred = knn.predict(x)\n",
    "print(\"Prediction : {}\".format(y_pred))"
   ]
  },
  {
   "cell_type": "code",
   "execution_count": 15,
   "metadata": {},
   "outputs": [],
   "source": [
    "from sklearn.metrics import accuracy_score"
   ]
  },
  {
   "cell_type": "code",
   "execution_count": 16,
   "metadata": {},
   "outputs": [
    {
     "ename": "NameError",
     "evalue": "name 'metrics' is not defined",
     "output_type": "error",
     "traceback": [
      "\u001b[1;31m---------------------------------------------------------------------------\u001b[0m",
      "\u001b[1;31mNameError\u001b[0m                                 Traceback (most recent call last)",
      "\u001b[1;32m<ipython-input-16-f29fdfe799e4>\u001b[0m in \u001b[0;36m<module>\u001b[1;34m\u001b[0m\n\u001b[1;32m----> 1\u001b[1;33m \u001b[0mprint\u001b[0m\u001b[1;33m(\u001b[0m\u001b[1;34m\"LPG model accuracy :\"\u001b[0m\u001b[1;33m,\u001b[0m \u001b[0mmetrics\u001b[0m\u001b[1;33m.\u001b[0m\u001b[0maccuracy_score\u001b[0m\u001b[1;33m(\u001b[0m\u001b[0my\u001b[0m\u001b[1;33m,\u001b[0m\u001b[0my_pred\u001b[0m\u001b[1;33m)\u001b[0m\u001b[1;33m*\u001b[0m\u001b[1;36m100\u001b[0m\u001b[1;33m)\u001b[0m\u001b[1;33m\u001b[0m\u001b[1;33m\u001b[0m\u001b[0m\n\u001b[0m",
      "\u001b[1;31mNameError\u001b[0m: name 'metrics' is not defined"
     ]
    }
   ],
   "source": [
    "print(\"LPG model accuracy :\", metrics.accuracy_score(y,y_pred)*100)"
   ]
  },
  {
   "cell_type": "code",
   "execution_count": 17,
   "metadata": {},
   "outputs": [],
   "source": [
    "from sklearn import metrics"
   ]
  },
  {
   "cell_type": "code",
   "execution_count": 18,
   "metadata": {},
   "outputs": [
    {
     "name": "stdout",
     "output_type": "stream",
     "text": [
      "LPG model accuracy : 82.22222222222221\n"
     ]
    }
   ],
   "source": [
    "print(\"LPG model accuracy :\", metrics.accuracy_score(y,y_pred)*100)"
   ]
  },
  {
   "cell_type": "code",
   "execution_count": 19,
   "metadata": {},
   "outputs": [
    {
     "data": {
      "text/plain": [
       "['LPG_model.pkl']"
      ]
     },
     "execution_count": 19,
     "metadata": {},
     "output_type": "execute_result"
    }
   ],
   "source": [
    "joblib.dump(knn,'LPG_model.pkl')"
   ]
  },
  {
   "cell_type": "code",
   "execution_count": 21,
   "metadata": {},
   "outputs": [],
   "source": [
    "def LPG_MODEL(LPG_ID):\n",
    "    knn=joblib.load('LPG_model.pkl')\n",
    "    x_new=LPG_ID\n",
    "    new_pred=knn.predict([x_new])\n",
    "    f = open(\"output.txt\",\"w\")\n",
    "    f.write(str(new_pred))\n",
    "    f.close()\n",
    "    current_date=time.asctime()\n",
    "    print(\"LPG_TEST: START DAY -{} Refill after {}\".format(current_date,new_pred)) \n",
    "    f1 = open(\"LPG_RESULT.txt\",\"w\")\n",
    "    f1.write(\"LPG_TEST: START DAY -{} Refill after {}\".format(current_date,str(new_pred)))\n",
    "    f1.close()"
   ]
  },
  {
   "cell_type": "code",
   "execution_count": null,
   "metadata": {},
   "outputs": [],
   "source": []
  }
 ],
 "metadata": {
  "kernelspec": {
   "display_name": "Python 3",
   "language": "python",
   "name": "python3"
  },
  "language_info": {
   "codemirror_mode": {
    "name": "ipython",
    "version": 3
   },
   "file_extension": ".py",
   "mimetype": "text/x-python",
   "name": "python",
   "nbconvert_exporter": "python",
   "pygments_lexer": "ipython3",
   "version": "3.8.3"
  }
 },
 "nbformat": 4,
 "nbformat_minor": 4
}
